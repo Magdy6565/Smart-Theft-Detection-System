{
  "nbformat": 4,
  "nbformat_minor": 0,
  "metadata": {
    "colab": {
      "provenance": []
    },
    "kernelspec": {
      "name": "python3",
      "display_name": "Python 3"
    },
    "language_info": {
      "name": "python"
    }
  },
  "cells": [
    {
      "cell_type": "code",
      "execution_count": 1,
      "metadata": {
        "colab": {
          "base_uri": "https://localhost:8080/"
        },
        "id": "xk_4dePMMtNr",
        "outputId": "e1bd0bd1-57e4-45b3-bde9-d7cd6563c395"
      },
      "outputs": [
        {
          "output_type": "stream",
          "name": "stdout",
          "text": [
            "Collecting django\n",
            "  Downloading Django-5.1.2-py3-none-any.whl.metadata (4.2 kB)\n",
            "Collecting asgiref<4,>=3.8.1 (from django)\n",
            "  Downloading asgiref-3.8.1-py3-none-any.whl.metadata (9.3 kB)\n",
            "Requirement already satisfied: sqlparse>=0.3.1 in /usr/local/lib/python3.10/dist-packages (from django) (0.5.1)\n",
            "Requirement already satisfied: typing-extensions>=4 in /usr/local/lib/python3.10/dist-packages (from asgiref<4,>=3.8.1->django) (4.12.2)\n",
            "Downloading Django-5.1.2-py3-none-any.whl (8.3 MB)\n",
            "\u001b[2K   \u001b[90m━━━━━━━━━━━━━━━━━━━━━━━━━━━━━━━━━━━━━━━━\u001b[0m \u001b[32m8.3/8.3 MB\u001b[0m \u001b[31m33.3 MB/s\u001b[0m eta \u001b[36m0:00:00\u001b[0m\n",
            "\u001b[?25hDownloading asgiref-3.8.1-py3-none-any.whl (23 kB)\n",
            "Installing collected packages: asgiref, django\n",
            "Successfully installed asgiref-3.8.1 django-5.1.2\n"
          ]
        }
      ],
      "source": [
        "!pip install django\n"
      ]
    },
    {
      "cell_type": "code",
      "source": [
        "!django-admin startproject portfolio\n"
      ],
      "metadata": {
        "colab": {
          "base_uri": "https://localhost:8080/"
        },
        "id": "AM6WuiSlMva0",
        "outputId": "f7139633-ca54-4028-d26a-19f861e98b9d"
      },
      "execution_count": 12,
      "outputs": [
        {
          "output_type": "stream",
          "name": "stdout",
          "text": [
            "\u001b[31;1mCommandError: '/content/portfolio/portfolio' already exists\n",
            "\u001b[0m"
          ]
        }
      ]
    },
    {
      "cell_type": "markdown",
      "source": [
        "mlha4 lazma"
      ],
      "metadata": {
        "id": "i6KLehikOqUf"
      }
    },
    {
      "cell_type": "code",
      "source": [
        "%cd portfolio/\n"
      ],
      "metadata": {
        "colab": {
          "base_uri": "https://localhost:8080/"
        },
        "id": "9qHOJcKoMxpR",
        "outputId": "e5d32c4a-ea2b-4810-80bf-69b1ae0c4f96"
      },
      "execution_count": 13,
      "outputs": [
        {
          "output_type": "stream",
          "name": "stdout",
          "text": [
            "/content/portfolio/portfolio\n"
          ]
        }
      ]
    },
    {
      "cell_type": "code",
      "source": [
        "!python manage.py migrate\n"
      ],
      "metadata": {
        "colab": {
          "base_uri": "https://localhost:8080/"
        },
        "id": "jebJHWfLOVrn",
        "outputId": "0aa787d0-9730-45df-9254-a28542d87e27"
      },
      "execution_count": 120,
      "outputs": [
        {
          "output_type": "stream",
          "name": "stdout",
          "text": [
            "2024-10-10 19:54:28.926477: E external/local_xla/xla/stream_executor/cuda/cuda_fft.cc:485] Unable to register cuFFT factory: Attempting to register factory for plugin cuFFT when one has already been registered\n",
            "2024-10-10 19:54:28.956472: E external/local_xla/xla/stream_executor/cuda/cuda_dnn.cc:8454] Unable to register cuDNN factory: Attempting to register factory for plugin cuDNN when one has already been registered\n",
            "2024-10-10 19:54:28.965599: E external/local_xla/xla/stream_executor/cuda/cuda_blas.cc:1452] Unable to register cuBLAS factory: Attempting to register factory for plugin cuBLAS when one has already been registered\n",
            "2024-10-10 19:54:28.986086: I tensorflow/core/platform/cpu_feature_guard.cc:210] This TensorFlow binary is optimized to use available CPU instructions in performance-critical operations.\n",
            "To enable the following instructions: AVX2 FMA, in other operations, rebuild TensorFlow with the appropriate compiler flags.\n",
            "2024-10-10 19:54:30.658785: W tensorflow/compiler/tf2tensorrt/utils/py_utils.cc:38] TF-TRT Warning: Could not find TensorRT\n",
            "System check identified some issues:\n",
            "\n",
            "WARNINGS:\n",
            "\u001b[33;1m?: (staticfiles.W004) The directory '/content/portfolio/static' in the STATICFILES_DIRS setting does not exist.\u001b[0m\n",
            "\u001b[36;1mOperations to perform:\u001b[0m\n",
            "\u001b[1m  Apply all migrations: \u001b[0madmin, auth, contenttypes, my_app, sessions\n",
            "\u001b[36;1mRunning migrations:\u001b[0m\n",
            "  No migrations to apply.\n"
          ]
        }
      ]
    },
    {
      "cell_type": "code",
      "source": [
        "from google.colab.output import eval_js\n",
        "print(eval_js(\"google.colab.kernel.proxyPort(8000)\"))"
      ],
      "metadata": {
        "colab": {
          "base_uri": "https://localhost:8080/",
          "height": 34
        },
        "id": "zNSrXti8M01t",
        "outputId": "dca767f5-b09f-49b7-ed33-ad085757a80a"
      },
      "execution_count": 101,
      "outputs": [
        {
          "output_type": "stream",
          "name": "stdout",
          "text": [
            "https://suda41uw7dr-496ff2e9c6d22116-8000-colab.googleusercontent.com/\n"
          ]
        }
      ]
    },
    {
      "cell_type": "code",
      "source": [
        "!python manage.py runserver 8000\n"
      ],
      "metadata": {
        "colab": {
          "base_uri": "https://localhost:8080/"
        },
        "id": "GxLt1Z1iM7d5",
        "outputId": "1a63da08-6b51-48dd-83a7-f05032c88646"
      },
      "execution_count": 129,
      "outputs": [
        {
          "output_type": "stream",
          "name": "stdout",
          "text": [
            "Watching for file changes with StatReloader\n",
            "Performing system checks...\n",
            "\n",
            "2024-10-10 20:35:01.806463: E external/local_xla/xla/stream_executor/cuda/cuda_fft.cc:485] Unable to register cuFFT factory: Attempting to register factory for plugin cuFFT when one has already been registered\n",
            "2024-10-10 20:35:01.852699: E external/local_xla/xla/stream_executor/cuda/cuda_dnn.cc:8454] Unable to register cuDNN factory: Attempting to register factory for plugin cuDNN when one has already been registered\n",
            "2024-10-10 20:35:01.866393: E external/local_xla/xla/stream_executor/cuda/cuda_blas.cc:1452] Unable to register cuBLAS factory: Attempting to register factory for plugin cuBLAS when one has already been registered\n",
            "2024-10-10 20:35:01.900894: I tensorflow/core/platform/cpu_feature_guard.cc:210] This TensorFlow binary is optimized to use available CPU instructions in performance-critical operations.\n",
            "To enable the following instructions: AVX2 FMA, in other operations, rebuild TensorFlow with the appropriate compiler flags.\n",
            "2024-10-10 20:35:03.924751: W tensorflow/compiler/tf2tensorrt/utils/py_utils.cc:38] TF-TRT Warning: Could not find TensorRT\n",
            "System check identified some issues:\n",
            "\n",
            "WARNINGS:\n",
            "\u001b[33;1m?: (staticfiles.W004) The directory '/content/portfolio/static' in the STATICFILES_DIRS setting does not exist.\u001b[0m\n",
            "\n",
            "System check identified 1 issue (0 silenced).\n",
            "October 10, 2024 - 20:35:07\n",
            "Django version 5.1.2, using settings 'portofolio.settings'\n",
            "Starting development server at http://127.0.0.1:8000/\n",
            "Quit the server with CONTROL-C.\n",
            "\n",
            "Hello I am inside Home\n",
            "[10/Oct/2024 20:35:12] \u001b[m\"GET / HTTP/1.1\" 200 1322\u001b[0m\n",
            "[10/Oct/2024 20:35:12] \u001b[33m\"GET /static/css/styles.css HTTP/1.1\" 404 1867\u001b[0m\n",
            "Not Found: /favicon.ico\n",
            "[10/Oct/2024 20:35:12] \u001b[33m\"GET /favicon.ico HTTP/1.1\" 404 2574\u001b[0m\n",
            "Hello I am inside upload video\n",
            "[10/Oct/2024 20:35:29] \u001b[m\"GET /upload/ HTTP/1.1\" 200 2209\u001b[0m\n",
            "[10/Oct/2024 20:35:29] \u001b[33m\"GET /static/my_app/styles.css HTTP/1.1\" 404 1876\u001b[0m\n",
            "Not Found: /favicon.ico\n",
            "[10/Oct/2024 20:35:30] \u001b[33m\"GET /favicon.ico HTTP/1.1\" 404 2574\u001b[0m\n",
            "Hello I am here\n",
            "The request method is POST\n",
            "Finally post\n",
            "form valid\n",
            "Video tensor shape: torch.Size([1, 32, 3, 224, 224])\n",
            "[10/Oct/2024 20:36:25] \u001b[m\"POST /detect-theft/ HTTP/1.1\" 200 1590\u001b[0m\n",
            "[10/Oct/2024 20:36:25] \u001b[33m\"GET /static/my_app/styles.css HTTP/1.1\" 404 1876\u001b[0m\n",
            "Not Found: /favicon.ico\n",
            "[10/Oct/2024 20:36:26] \u001b[33m\"GET /favicon.ico HTTP/1.1\" 404 2574\u001b[0m\n",
            "Hello I am inside upload video\n",
            "[10/Oct/2024 20:36:31] \u001b[m\"GET /upload/ HTTP/1.1\" 200 2209\u001b[0m\n",
            "[10/Oct/2024 20:36:32] \u001b[33m\"GET /static/my_app/styles.css HTTP/1.1\" 404 1876\u001b[0m\n",
            "Not Found: /favicon.ico\n",
            "[10/Oct/2024 20:36:32] \u001b[33m\"GET /favicon.ico HTTP/1.1\" 404 2574\u001b[0m\n",
            "Hello I am here\n",
            "The request method is POST\n",
            "Finally post\n",
            "form valid\n",
            "Video tensor shape: torch.Size([1, 32, 3, 224, 224])\n",
            "[10/Oct/2024 20:37:27] \u001b[m\"POST /detect-theft/ HTTP/1.1\" 200 1593\u001b[0m\n",
            "[10/Oct/2024 20:37:27] \u001b[33m\"GET /static/my_app/styles.css HTTP/1.1\" 404 1876\u001b[0m\n",
            "Not Found: /favicon.ico\n",
            "[10/Oct/2024 20:37:28] \u001b[33m\"GET /favicon.ico HTTP/1.1\" 404 2574\u001b[0m\n",
            "Hello I am inside upload video\n",
            "[10/Oct/2024 20:37:33] \u001b[m\"GET /upload/ HTTP/1.1\" 200 2209\u001b[0m\n",
            "[10/Oct/2024 20:37:33] \u001b[33m\"GET /static/my_app/styles.css HTTP/1.1\" 404 1876\u001b[0m\n",
            "Not Found: /favicon.ico\n",
            "[10/Oct/2024 20:37:34] \u001b[33m\"GET /favicon.ico HTTP/1.1\" 404 2574\u001b[0m\n",
            "Hello I am here\n",
            "The request method is POST\n",
            "Finally post\n",
            "form valid\n",
            "Video tensor shape: torch.Size([1, 32, 3, 224, 224])\n",
            "[10/Oct/2024 20:39:11] \u001b[m\"POST /detect-theft/ HTTP/1.1\" 200 1590\u001b[0m\n",
            "[10/Oct/2024 20:39:12] \u001b[33m\"GET /static/my_app/styles.css HTTP/1.1\" 404 1876\u001b[0m\n",
            "Not Found: /favicon.ico\n",
            "[10/Oct/2024 20:39:12] \u001b[33m\"GET /favicon.ico HTTP/1.1\" 404 2574\u001b[0m\n"
          ]
        }
      ]
    },
    {
      "cell_type": "code",
      "source": [
        "!pip install django transformers huggingface-hub vivit"
      ],
      "metadata": {
        "colab": {
          "base_uri": "https://localhost:8080/"
        },
        "id": "LmQaGcHDM97V",
        "outputId": "ce76e243-bbe4-4bf1-dce7-0b4e3d127735"
      },
      "execution_count": 26,
      "outputs": [
        {
          "output_type": "stream",
          "name": "stdout",
          "text": [
            "Requirement already satisfied: django in /usr/local/lib/python3.10/dist-packages (5.1.2)\n",
            "Requirement already satisfied: transformers in /usr/local/lib/python3.10/dist-packages (4.44.2)\n",
            "Requirement already satisfied: huggingface-hub in /usr/local/lib/python3.10/dist-packages (0.24.7)\n",
            "\u001b[31mERROR: Could not find a version that satisfies the requirement vivit (from versions: none)\u001b[0m\u001b[31m\n",
            "\u001b[0m\u001b[31mERROR: No matching distribution found for vivit\u001b[0m\u001b[31m\n",
            "\u001b[0m"
          ]
        }
      ]
    },
    {
      "cell_type": "code",
      "source": [
        "!python manage.py startapp my_app"
      ],
      "metadata": {
        "id": "x2YBj-9LPi35"
      },
      "execution_count": 27,
      "outputs": []
    },
    {
      "cell_type": "code",
      "source": [
        "!python manage.py makemigrations\n",
        "!python manage.py migrate\n"
      ],
      "metadata": {
        "colab": {
          "base_uri": "https://localhost:8080/"
        },
        "id": "L0T6dWyTQJqd",
        "outputId": "f6c04107-5faa-4155-e864-b25740efefbe"
      },
      "execution_count": 98,
      "outputs": [
        {
          "output_type": "stream",
          "name": "stdout",
          "text": [
            "2024-10-10 19:24:04.994733: E external/local_xla/xla/stream_executor/cuda/cuda_fft.cc:485] Unable to register cuFFT factory: Attempting to register factory for plugin cuFFT when one has already been registered\n",
            "2024-10-10 19:24:05.035193: E external/local_xla/xla/stream_executor/cuda/cuda_dnn.cc:8454] Unable to register cuDNN factory: Attempting to register factory for plugin cuDNN when one has already been registered\n",
            "2024-10-10 19:24:05.046680: E external/local_xla/xla/stream_executor/cuda/cuda_blas.cc:1452] Unable to register cuBLAS factory: Attempting to register factory for plugin cuBLAS when one has already been registered\n",
            "2024-10-10 19:24:05.074702: I tensorflow/core/platform/cpu_feature_guard.cc:210] This TensorFlow binary is optimized to use available CPU instructions in performance-critical operations.\n",
            "To enable the following instructions: AVX2 FMA, in other operations, rebuild TensorFlow with the appropriate compiler flags.\n",
            "2024-10-10 19:24:07.249669: W tensorflow/compiler/tf2tensorrt/utils/py_utils.cc:38] TF-TRT Warning: Could not find TensorRT\n",
            "System check identified some issues:\n",
            "\n",
            "WARNINGS:\n",
            "\u001b[33;1m?: (staticfiles.W004) The directory '/content/portfolio/static' in the STATICFILES_DIRS setting does not exist.\u001b[0m\n",
            "No changes detected\n",
            "2024-10-10 19:24:17.124493: E external/local_xla/xla/stream_executor/cuda/cuda_fft.cc:485] Unable to register cuFFT factory: Attempting to register factory for plugin cuFFT when one has already been registered\n",
            "2024-10-10 19:24:17.150916: E external/local_xla/xla/stream_executor/cuda/cuda_dnn.cc:8454] Unable to register cuDNN factory: Attempting to register factory for plugin cuDNN when one has already been registered\n",
            "2024-10-10 19:24:17.161687: E external/local_xla/xla/stream_executor/cuda/cuda_blas.cc:1452] Unable to register cuBLAS factory: Attempting to register factory for plugin cuBLAS when one has already been registered\n",
            "2024-10-10 19:24:17.183394: I tensorflow/core/platform/cpu_feature_guard.cc:210] This TensorFlow binary is optimized to use available CPU instructions in performance-critical operations.\n",
            "To enable the following instructions: AVX2 FMA, in other operations, rebuild TensorFlow with the appropriate compiler flags.\n",
            "2024-10-10 19:24:19.122628: W tensorflow/compiler/tf2tensorrt/utils/py_utils.cc:38] TF-TRT Warning: Could not find TensorRT\n",
            "System check identified some issues:\n",
            "\n",
            "WARNINGS:\n",
            "\u001b[33;1m?: (staticfiles.W004) The directory '/content/portfolio/static' in the STATICFILES_DIRS setting does not exist.\u001b[0m\n",
            "\u001b[36;1mOperations to perform:\u001b[0m\n",
            "\u001b[1m  Apply all migrations: \u001b[0madmin, auth, contenttypes, my_app, sessions\n",
            "\u001b[36;1mRunning migrations:\u001b[0m\n",
            "  No migrations to apply.\n"
          ]
        }
      ]
    },
    {
      "cell_type": "code",
      "source": [
        "!zip -r folder_name.zip /content/portfolio\n"
      ],
      "metadata": {
        "colab": {
          "base_uri": "https://localhost:8080/"
        },
        "id": "lg70KcVPKYBh",
        "outputId": "23e61737-8840-4795-82df-1f3cc68a08a2"
      },
      "execution_count": 130,
      "outputs": [
        {
          "output_type": "stream",
          "name": "stdout",
          "text": [
            "  adding: content/portfolio/ (stored 0%)\n",
            "  adding: content/portfolio/manage.py (deflated 43%)\n",
            "  adding: content/portfolio/.ipynb_checkpoints/ (stored 0%)\n",
            "  adding: content/portfolio/db.sqlite3 (deflated 97%)\n",
            "  adding: content/portfolio/portofolio/ (stored 0%)\n",
            "  adding: content/portfolio/portofolio/asgi.py (deflated 33%)\n",
            "  adding: content/portfolio/portofolio/settings.py (deflated 59%)\n",
            "  adding: content/portfolio/portofolio/wsgi.py (deflated 32%)\n",
            "  adding: content/portfolio/portofolio/__pycache__/ (stored 0%)\n",
            "  adding: content/portfolio/portofolio/__pycache__/urls.cpython-310.pyc (deflated 29%)\n",
            "  adding: content/portfolio/portofolio/__pycache__/wsgi.cpython-310.pyc (deflated 25%)\n",
            "  adding: content/portfolio/portofolio/__pycache__/__init__.cpython-310.pyc (deflated 32%)\n",
            "  adding: content/portfolio/portofolio/__pycache__/settings.cpython-310.pyc (deflated 46%)\n",
            "  adding: content/portfolio/portofolio/urls.py (deflated 53%)\n",
            "  adding: content/portfolio/portofolio/__init__.py (stored 0%)\n",
            "  adding: content/portfolio/my_app/ (stored 0%)\n",
            "  adding: content/portfolio/my_app/templates/ (stored 0%)\n",
            "  adding: content/portfolio/my_app/templates/.ipynb_checkpoints/ (stored 0%)\n",
            "  adding: content/portfolio/my_app/templates/my_app/ (stored 0%)\n",
            "  adding: content/portfolio/my_app/templates/my_app/upload.html (deflated 62%)\n",
            "  adding: content/portfolio/my_app/templates/my_app/__init__.py (stored 0%)\n",
            "  adding: content/portfolio/my_app/templates/my_app/home.html (deflated 58%)\n",
            "  adding: content/portfolio/my_app/templates/my_app/result.html (deflated 60%)\n",
            "  adding: content/portfolio/my_app/admin.py (deflated 2%)\n",
            "  adding: content/portfolio/my_app/__pycache__/ (stored 0%)\n",
            "  adding: content/portfolio/my_app/__pycache__/urls.cpython-310.pyc (deflated 26%)\n",
            "  adding: content/portfolio/my_app/__pycache__/models.cpython-310.pyc (deflated 36%)\n",
            "  adding: content/portfolio/my_app/__pycache__/views.cpython-310.pyc (deflated 39%)\n",
            "  adding: content/portfolio/my_app/__pycache__/apps.cpython-310.pyc (deflated 32%)\n",
            "  adding: content/portfolio/my_app/__pycache__/__init__.cpython-310.pyc (deflated 25%)\n",
            "  adding: content/portfolio/my_app/__pycache__/admin.cpython-310.pyc (deflated 20%)\n",
            "  adding: content/portfolio/my_app/__pycache__/forms.cpython-310.pyc (deflated 40%)\n",
            "  adding: content/portfolio/my_app/models.py (deflated 32%)\n",
            "  adding: content/portfolio/my_app/urls.py (deflated 54%)\n",
            "  adding: content/portfolio/my_app/tests.py (deflated 3%)\n",
            "  adding: content/portfolio/my_app/views.py (deflated 68%)\n",
            "  adding: content/portfolio/my_app/.ipynb_checkpoints/ (stored 0%)\n",
            "  adding: content/portfolio/my_app/apps.py (deflated 20%)\n",
            "  adding: content/portfolio/my_app/forms.py (deflated 32%)\n",
            "  adding: content/portfolio/my_app/migrations/ (stored 0%)\n",
            "  adding: content/portfolio/my_app/migrations/__pycache__/ (stored 0%)\n",
            "  adding: content/portfolio/my_app/migrations/__pycache__/__init__.cpython-310.pyc (deflated 23%)\n",
            "  adding: content/portfolio/my_app/migrations/__pycache__/0001_initial.cpython-310.pyc (deflated 32%)\n",
            "  adding: content/portfolio/my_app/migrations/__init__.py (stored 0%)\n",
            "  adding: content/portfolio/my_app/migrations/0001_initial.py (deflated 48%)\n",
            "  adding: content/portfolio/media/ (stored 0%)\n",
            "  adding: content/portfolio/media/videos/ (stored 0%)\n",
            "  adding: content/portfolio/media/videos/shop_lifter_68_UjWwIqV.mp4 (deflated 0%)\n",
            "  adding: content/portfolio/media/videos/shop_lifter_68_kTUNpFs.mp4 (deflated 0%)\n",
            "  adding: content/portfolio/media/videos/shop_lifter_68_z1g3xTS.mp4 (deflated 0%)\n",
            "  adding: content/portfolio/media/videos/shop_lifter_68_mDSRTYk.mp4 (deflated 0%)\n",
            "  adding: content/portfolio/media/videos/1718764336494_9293vzu.jpeg (deflated 0%)\n",
            "  adding: content/portfolio/media/videos/shop_lifter_68_XpfDj28.mp4 (deflated 0%)\n",
            "  adding: content/portfolio/media/videos/shop_lifter_68_tnPQy1Q.mp4 (deflated 0%)\n",
            "  adding: content/portfolio/media/videos/1718764336494.jpeg (deflated 0%)\n",
            "  adding: content/portfolio/media/videos/shop_lifter_68_2agIb5b.mp4 (deflated 0%)\n",
            "  adding: content/portfolio/media/videos/shop_lifter_68_25apRZd.mp4 (deflated 0%)\n",
            "  adding: content/portfolio/media/videos/shop_lifter_68_aQdsgcJ.mp4 (deflated 0%)\n",
            "  adding: content/portfolio/media/videos/shop_lifter_68_HrAzGn3.mp4 (deflated 0%)\n",
            "  adding: content/portfolio/media/videos/shop_lifter_68.mp4 (deflated 0%)\n",
            "  adding: content/portfolio/media/videos/shop_lifter_n_217.mp4 (deflated 1%)\n",
            "  adding: content/portfolio/media/videos/shop_lifter_68_4ZJ6L2C.mp4 (deflated 0%)\n",
            "  adding: content/portfolio/media/videos/shop_lifter_68_6IPoRKt.mp4 (deflated 0%)\n",
            "  adding: content/portfolio/media/videos/shop_lifter_68_qCMgyav.mp4 (deflated 0%)\n",
            "  adding: content/portfolio/media/videos/shop_lifter_68_M1dRw1L.mp4 (deflated 0%)\n",
            "  adding: content/portfolio/media/videos/shop_lifter_n_217_SrYBCqD.mp4 (deflated 1%)\n",
            "  adding: content/portfolio/media/videos/shop_lifter_68_GS72usr.mp4 (deflated 0%)\n",
            "  adding: content/portfolio/media/videos/shop_lifter_68_Iqvdcck.mp4 (deflated 0%)\n",
            "  adding: content/portfolio/media/videos/shop_lifter_68_m3fUcNY.mp4 (deflated 0%)\n"
          ]
        }
      ]
    },
    {
      "cell_type": "code",
      "source": [
        "from google.colab import files\n",
        "files.download('folder_name.zip')\n"
      ],
      "metadata": {
        "colab": {
          "base_uri": "https://localhost:8080/",
          "height": 17
        },
        "id": "1wtjb7bGKarx",
        "outputId": "addb7f44-18e8-42c2-b14d-78eb6955daf5"
      },
      "execution_count": 131,
      "outputs": [
        {
          "output_type": "display_data",
          "data": {
            "text/plain": [
              "<IPython.core.display.Javascript object>"
            ],
            "application/javascript": [
              "\n",
              "    async function download(id, filename, size) {\n",
              "      if (!google.colab.kernel.accessAllowed) {\n",
              "        return;\n",
              "      }\n",
              "      const div = document.createElement('div');\n",
              "      const label = document.createElement('label');\n",
              "      label.textContent = `Downloading \"${filename}\": `;\n",
              "      div.appendChild(label);\n",
              "      const progress = document.createElement('progress');\n",
              "      progress.max = size;\n",
              "      div.appendChild(progress);\n",
              "      document.body.appendChild(div);\n",
              "\n",
              "      const buffers = [];\n",
              "      let downloaded = 0;\n",
              "\n",
              "      const channel = await google.colab.kernel.comms.open(id);\n",
              "      // Send a message to notify the kernel that we're ready.\n",
              "      channel.send({})\n",
              "\n",
              "      for await (const message of channel.messages) {\n",
              "        // Send a message to notify the kernel that we're ready.\n",
              "        channel.send({})\n",
              "        if (message.buffers) {\n",
              "          for (const buffer of message.buffers) {\n",
              "            buffers.push(buffer);\n",
              "            downloaded += buffer.byteLength;\n",
              "            progress.value = downloaded;\n",
              "          }\n",
              "        }\n",
              "      }\n",
              "      const blob = new Blob(buffers, {type: 'application/binary'});\n",
              "      const a = document.createElement('a');\n",
              "      a.href = window.URL.createObjectURL(blob);\n",
              "      a.download = filename;\n",
              "      div.appendChild(a);\n",
              "      a.click();\n",
              "      div.remove();\n",
              "    }\n",
              "  "
            ]
          },
          "metadata": {}
        },
        {
          "output_type": "display_data",
          "data": {
            "text/plain": [
              "<IPython.core.display.Javascript object>"
            ],
            "application/javascript": [
              "download(\"download_496dda23-a38d-4a1f-adb7-4e41db602b97\", \"folder_name.zip\", 36464190)"
            ]
          },
          "metadata": {}
        }
      ]
    },
    {
      "cell_type": "code",
      "source": [],
      "metadata": {
        "id": "vlHdMAUJKeRo"
      },
      "execution_count": null,
      "outputs": []
    }
  ]
}